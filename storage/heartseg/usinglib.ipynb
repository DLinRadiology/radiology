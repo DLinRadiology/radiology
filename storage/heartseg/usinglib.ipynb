{
 "cells": [
  {
   "cell_type": "code",
   "execution_count": null,
   "metadata": {
    "collapsed": true
   },
   "outputs": [],
   "source": [
    "import lib\n",
    "import os\n",
    "import numpy as np\n",
    "import matplotlib.pyplot as plt"
   ]
  },
  {
   "cell_type": "code",
   "execution_count": null,
   "metadata": {
    "collapsed": true
   },
   "outputs": [],
   "source": [
    "# augmentation of image + mask\n",
    "for i in range(1,35):\n",
    "    imagepath=\"segmented/im\"+str(i)+\".png\"\n",
    "    maskpath=\"segmented/mask\"+str(i)+\".png\"\n",
    "    img_prefix=\"im\"+str(i)\n",
    "    mask_prefix=\"mask\"+str(i)\n",
    "    save_to_dir=\"augmented/\"\n",
    "    nr=101\n",
    "    size=[96,96]\n",
    "    \n",
    "    lib.augment(imagepath=imagepath, maskpath=maskpath, img_prefix=img_prefix, mask_prefix=mask_prefix, save_to_dir=save_to_dir, nr=nr, size=size)"
   ]
  },
  {
   "cell_type": "code",
   "execution_count": null,
   "metadata": {
    "collapsed": true
   },
   "outputs": [],
   "source": [
    "# create training images\n",
    "folder = \"augmented/\"\n",
    "images = lib.createimgs(folder)\n",
    "masks = lib.createmasks(folder)"
   ]
  },
  {
   "cell_type": "code",
   "execution_count": null,
   "metadata": {
    "collapsed": true
   },
   "outputs": [],
   "source": [
    "# create and train model\n",
    "model = lib.train(imgs_train=images, imgs_mask_train=masks, epochs=15, lr=1e-4, batch_size=2)"
   ]
  },
  {
   "cell_type": "code",
   "execution_count": null,
   "metadata": {
    "collapsed": true
   },
   "outputs": [],
   "source": [
    "imgs_test = lib.createimgs(pathdir=\"testseg/\",startswith=\"C\")\n",
    "\n",
    "imgs_test = lib.preprocess(imgs_test)\n",
    "imgs_test = imgs_test.astype('float32')\n",
    "\n",
    "mean = np.mean(imgs_test)  # mean for data centering\n",
    "std = np.std(imgs_test)  # std for data normalization\n",
    "\n",
    "imgs_test -= mean\n",
    "imgs_test /= std\n",
    "\n",
    "pred = model.predict(imgs_test)\n",
    "\n",
    "for i in range(imgs_test.shape[0]): \n",
    "    plt.imshow((imgs_test[i,:,:,0]), cmap='Greys_r')\n",
    "    plt.show()\n",
    "    plt.imshow((pred[i,:,:,0]), cmap='Greys_r')\n",
    "    plt.show()\n",
    "    imgs_test[i,:,:,0]=imgs_test[i,:,:,0] - (imgs_test[i,:,:,0]*pred[i,:,:,0])\n",
    "    plt.imshow((imgs_test[i,:,:,0]),  cmap='Greys_r')\n",
    "    plt.show()\n"
   ]
  },
  {
   "cell_type": "code",
   "execution_count": null,
   "metadata": {
    "collapsed": true
   },
   "outputs": [],
   "source": [
    "imgs_test = lib.createimgs(pathdir=\"testseg/\",startswith=\"C\")\n",
    "\n",
    "imgs_test = lib.preprocess(imgs_test)\n",
    "imgs_test = imgs_test.astype('float32')\n",
    "\n",
    "mean = np.mean(imgs_test)  # mean for data centering\n",
    "std = np.std(imgs_test)  # std for data normalization\n",
    "\n",
    "imgs_test -= mean\n",
    "imgs_test /= std\n",
    "\n",
    "pred = model.predict(imgs_test)\n",
    "\n",
    "for i in range(imgs_test.shape[0]): \n",
    "    plt.imshow((imgs_test[i,:,:,0]), cmap='Greys_r')\n",
    "    plt.show()\n",
    "    plt.imshow((pred[i,:,:,0]), cmap='Greys_r')\n",
    "    plt.show()\n",
    "    #res=imgs_test[i,:,:,0] - (imgs_test[i,:,:,0]*pred[i,:,:,0])\n",
    "    print (imgs_test[i,:,:,:].shape)\n",
    "    \n",
    "    #rest = np.dstack((imgs_test[i,:,:,0],imgs_test[i,:,:,0]))\n",
    "    plt.imshow(imgs_test[i,:,:,0], cmap='Greys_r')\n",
    "    plt.axis('off')\n",
    "    #res = np.reshape(res, (96,96,4))\n",
    "    res = pred[i,:,:,0]\n",
    "    res [ res<=0.9 ] = np.nan\n",
    "    plt.savefig('results/foo'+str(0)+str(i)+'png')\n",
    "    plt.imshow(pred[i,:,:,0],  alpha=0.5, cmap='Reds')\n",
    "    \n",
    "    plt.savefig('results/foo'+str(i)+'png')\n",
    "    plt.show()"
   ]
  },
  {
   "cell_type": "code",
   "execution_count": null,
   "metadata": {
    "collapsed": true
   },
   "outputs": [],
   "source": [
    "model.to_json(\"kerasmodelheartjson\")"
   ]
  },
  {
   "cell_type": "code",
   "execution_count": null,
   "metadata": {
    "collapsed": true
   },
   "outputs": [],
   "source": [
    "np.c_[imgs_test[i,:,:,0],res,res].shape\n"
   ]
  },
  {
   "cell_type": "code",
   "execution_count": null,
   "metadata": {
    "collapsed": true
   },
   "outputs": [],
   "source": [
    "import keras\n",
    "keras.models.load_model(\"kerasmodelheartseg2\", custom_objects={'loss_max': dice_coef_loss(1, 2)})"
   ]
  },
  {
   "cell_type": "code",
   "execution_count": 1,
   "metadata": {
    "collapsed": false
   },
   "outputs": [
    {
     "name": "stderr",
     "output_type": "stream",
     "text": [
      "Using TensorFlow backend.\n"
     ]
    }
   ],
   "source": [
    "from keras.layers import Input, concatenate, Conv2D, MaxPooling2D, Conv2DTranspose\n",
    "from keras.models import Model\n",
    "from keras.optimizers import Adam\n",
    "from keras import backend as K\n",
    "import os\n",
    "import numpy as np\n",
    "import matplotlib.pyplot as plt\n",
    "import scipy.ndimage\n",
    "from skimage.transform import resize\n",
    "\n",
    "img_rows = 96\n",
    "img_cols = 96\n",
    "\n",
    "smooth = 1.\n",
    "\n",
    "def dice_coef(y_true, y_pred):\n",
    "    y_true_f = K.flatten(y_true)\n",
    "    y_pred_f = K.flatten(y_pred)\n",
    "    intersection = K.sum(y_true_f * y_pred_f)\n",
    "    return ((2. * intersection + smooth) / (K.sum(y_true_f) + K.sum(y_pred_f) + smooth))\n",
    "\n",
    "def dice_coef_loss(y_true, y_pred):\n",
    "    return 1-dice_coef(y_true, y_pred)\n",
    "\n",
    "def get_unet(lr=1e-4):\n",
    "    inputs = Input((img_rows, img_cols, 1))\n",
    "    conv1 = Conv2D(32, (3, 3), activation='relu', padding='same')(inputs)\n",
    "    conv1 = Conv2D(32, (3, 3), activation='relu', padding='same')(conv1)\n",
    "    pool1 = MaxPooling2D(pool_size=(2, 2))(conv1)\n",
    "\n",
    "    conv2 = Conv2D(64, (3, 3), activation='relu', padding='same')(pool1)\n",
    "    conv2 = Conv2D(64, (3, 3), activation='relu', padding='same')(conv2)\n",
    "    pool2 = MaxPooling2D(pool_size=(2, 2))(conv2)\n",
    "\n",
    "    conv3 = Conv2D(128, (3, 3), activation='relu', padding='same')(pool2)\n",
    "    conv3 = Conv2D(128, (3, 3), activation='relu', padding='same')(conv3)\n",
    "    pool3 = MaxPooling2D(pool_size=(2, 2))(conv3)\n",
    "\n",
    "    conv4 = Conv2D(256, (3, 3), activation='relu', padding='same')(pool3)\n",
    "    conv4 = Conv2D(256, (3, 3), activation='relu', padding='same')(conv4)\n",
    "    pool4 = MaxPooling2D(pool_size=(2, 2))(conv4)\n",
    "\n",
    "    conv5 = Conv2D(512, (3, 3), activation='relu', padding='same')(pool4)\n",
    "    conv5 = Conv2D(512, (3, 3), activation='relu', padding='same')(conv5)\n",
    "\n",
    "    up6 = concatenate([Conv2DTranspose(256, (2, 2), strides=(2, 2), padding='same')(conv5), conv4], axis=3)\n",
    "    conv6 = Conv2D(256, (3, 3), activation='relu', padding='same')(up6)\n",
    "    conv6 = Conv2D(256, (3, 3), activation='relu', padding='same')(conv6)\n",
    "\n",
    "    up7 = concatenate([Conv2DTranspose(128, (2, 2), strides=(2, 2), padding='same')(conv6), conv3], axis=3)\n",
    "    conv7 = Conv2D(128, (3, 3), activation='relu', padding='same')(up7)\n",
    "    conv7 = Conv2D(128, (3, 3), activation='relu', padding='same')(conv7)\n",
    "\n",
    "    up8 = concatenate([Conv2DTranspose(64, (2, 2), strides=(2, 2), padding='same')(conv7), conv2], axis=3)\n",
    "    conv8 = Conv2D(64, (3, 3), activation='relu', padding='same')(up8)\n",
    "    conv8 = Conv2D(64, (3, 3), activation='relu', padding='same')(conv8)\n",
    "\n",
    "    up9 = concatenate([Conv2DTranspose(32, (2, 2), strides=(2, 2), padding='same')(conv8), conv1], axis=3)\n",
    "    conv9 = Conv2D(32, (3, 3), activation='relu', padding='same')(up9)\n",
    "    conv9 = Conv2D(32, (3, 3), activation='relu', padding='same')(conv9)\n",
    "\n",
    "    conv10 = Conv2D(1, (1, 1), activation='sigmoid')(conv9)\n",
    "\n",
    "    model = Model(inputs=[inputs], outputs=[conv10])\n",
    "\n",
    "    model.compile(optimizer=Adam(lr=lr), loss=dice_coef_loss, metrics=[dice_coef])\n",
    "\n",
    "    return model\n",
    "\n",
    "def preprocess(imgs):\n",
    "    imgs_p = np.ndarray((imgs.shape[0], img_rows, img_cols), dtype=np.uint8)\n",
    "    for i in range(imgs.shape[0]):\n",
    "        imgs_p[i] = resize(imgs[i], (img_cols, img_rows), preserve_range=True)\n",
    "\n",
    "    imgs_p = imgs_p[..., np.newaxis]\n",
    "    return imgs_p"
   ]
  },
  {
   "cell_type": "code",
   "execution_count": 2,
   "metadata": {
    "collapsed": true
   },
   "outputs": [],
   "source": [
    "model2=get_unet()\n",
    "\n",
    "model2.load_weights(\"kerasmodelheartweights\")"
   ]
  },
  {
   "cell_type": "code",
   "execution_count": 3,
   "metadata": {
    "collapsed": false
   },
   "outputs": [
    {
     "data": {
      "image/png": "[encoded data removed]",
      "text/plain": [
       "<matplotlib.figure.Figure at 0x11ce23160>"
      ]
     },
     "metadata": {},
     "output_type": "display_data"
    }
   ],
   "source": [
    "imgs_test = scipy.misc.imread(\"outfile.jpg\")\n",
    "imgs_test = scipy.misc.imresize(imgs_test[:,:,1], [96,96])\n",
    "imgs_test = imgs_test[..., np.newaxis]\n",
    "imgs_test = imgs_test[np.newaxis, ...]\n",
    "imgs_test = imgs_test.astype('float32')\n",
    "\n",
    "mean = np.mean(imgs_test)  # mean for data centering\n",
    "std = np.std(imgs_test)  # std for data normalization\n",
    "\n",
    "imgs_test -= mean\n",
    "imgs_test /= std\n",
    "\n",
    "pred = model2.predict(imgs_test)\n",
    "\n",
    "plt.imshow(imgs_test[0,:,:,0], cmap='Greys_r')\n",
    "plt.axis('off')\n",
    "res = pred[0,:,:,0]\n",
    "res [ res<=0.9 ] = np.nan\n",
    "plt.savefig('raw.png')\n",
    "plt.imshow(pred[0,:,:,0],  alpha=0.5, cmap='Reds') \n",
    "plt.savefig('heart.png')\n",
    "\n",
    "\n",
    "plt.show()"
   ]
  },
  {
   "cell_type": "code",
   "execution_count": null,
   "metadata": {
    "collapsed": true
   },
   "outputs": [],
   "source": []
  }
 ],
 "metadata": {
  "kernelspec": {
   "display_name": "Python 3",
   "language": "python",
   "name": "python3"
  },
  "language_info": {
   "codemirror_mode": {
    "name": "ipython",
    "version": 3
   },
   "file_extension": ".py",
   "mimetype": "text/x-python",
   "name": "python",
   "nbconvert_exporter": "python",
   "pygments_lexer": "ipython3",
   "version": "3.6.0"
  }
 },
 "nbformat": 4,
 "nbformat_minor": 2
}
